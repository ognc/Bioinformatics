{
  "cells": [
    {
      "cell_type": "markdown",
      "metadata": {
        "id": "du2P_xdAvnUK"
      },
      "source": [
        "## Домашнее задание №9\n",
        "### Генерация поэзии с помощью нейронных сетей: шаг 1\n",
        "##### Автор: [Радослав Нейчев](https://www.linkedin.com/in/radoslav-neychev/), @neychev\n",
        "\n",
        "Ваша основная задача: научиться генерироват стихи с помощью простой рекуррентной нейронной сети (Vanilla RNN). В качестве корпуса текстов для обучения будет выступать роман в стихах \"Евгений Онегин\" Александра Сергеевича Пушкина."
      ]
    },
    {
      "cell_type": "code",
      "execution_count": 2,
      "metadata": {
        "id": "fWTyblfWvnUQ"
      },
      "outputs": [],
      "source": [
        "# do not change the code in the block below\n",
        "# __________start of block__________\n",
        "import string\n",
        "import os\n",
        "from random import sample\n",
        "\n",
        "import numpy as np\n",
        "import torch, torch.nn as nn\n",
        "import torch.nn.functional as F\n",
        "\n",
        "from IPython.display import clear_output\n",
        "\n",
        "import matplotlib.pyplot as plt\n",
        "%matplotlib inline\n",
        "# __________end of block__________"
      ]
    },
    {
      "cell_type": "code",
      "execution_count": 3,
      "metadata": {
        "colab": {
          "base_uri": "https://localhost:8080/"
        },
        "id": "P-UoCxCXvnUT",
        "outputId": "b9342f4b-67c6-4454-a965-316f04482e1f"
      },
      "outputs": [
        {
          "output_type": "stream",
          "name": "stdout",
          "text": [
            "cuda device is available\n"
          ]
        }
      ],
      "source": [
        "# do not change the code in the block below\n",
        "# __________start of block__________\n",
        "device = torch.device(\"cuda\") if torch.cuda.is_available() else torch.device(\"cpu\")\n",
        "print(\"{} device is available\".format(device))\n",
        "# __________end of block__________"
      ]
    },
    {
      "cell_type": "markdown",
      "metadata": {
        "id": "MPenWOy01Ooa",
        "outputId": "a92e8e33-e009-4bd4-ac12-3b1b5e1cd3f2"
      },
      "source": [
        "#### 1. Загрузка данных."
      ]
    },
    {
      "cell_type": "code",
      "execution_count": 4,
      "metadata": {
        "colab": {
          "base_uri": "https://localhost:8080/"
        },
        "id": "WznD37jUvnUU",
        "outputId": "3d26b907-05c9-42b5-ce9a-2ab6cdf31875"
      },
      "outputs": [
        {
          "output_type": "stream",
          "name": "stdout",
          "text": [
            "--2024-11-18 21:11:58--  https://raw.githubusercontent.com/neychev/small_DL_repo/master/datasets/onegin.txt\n",
            "Resolving raw.githubusercontent.com (raw.githubusercontent.com)... 185.199.110.133, 185.199.108.133, 185.199.111.133, ...\n",
            "Connecting to raw.githubusercontent.com (raw.githubusercontent.com)|185.199.110.133|:443... connected.\n",
            "HTTP request sent, awaiting response... 200 OK\n",
            "Length: 262521 (256K) [text/plain]\n",
            "Saving to: ‘onegin.txt’\n",
            "\n",
            "onegin.txt          100%[===================>] 256.37K  --.-KB/s    in 0.006s  \n",
            "\n",
            "2024-11-18 21:11:58 (43.2 MB/s) - ‘onegin.txt’ saved [262521/262521]\n",
            "\n"
          ]
        }
      ],
      "source": [
        "# do not change the code in the block below\n",
        "# __________start of block__________\n",
        "!wget https://raw.githubusercontent.com/neychev/small_DL_repo/master/datasets/onegin.txt\n",
        "\n",
        "with open('onegin.txt', 'r') as iofile:\n",
        "    text = iofile.readlines()\n",
        "\n",
        "text = \"\".join([x.replace('\\t\\t', '').lower() for x in text])\n",
        "# __________end of block__________"
      ]
    },
    {
      "cell_type": "markdown",
      "metadata": {
        "id": "XQYpmGfR_gJ8"
      },
      "source": [
        "#### 2. Построение словаря и предобработка текста\n",
        "В данном задании требуется построить языковую модель на уровне символов. Приведем весь текст к нижнему регистру и построим словарь из всех символов в доступном корпусе текстов. Также добавим токен `<sos>`."
      ]
    },
    {
      "cell_type": "code",
      "execution_count": 5,
      "metadata": {
        "colab": {
          "base_uri": "https://localhost:8080/"
        },
        "id": "zsAOFYUdvnUV",
        "outputId": "e0bd9a2b-ed23-4774-ecdc-f8841cd06542"
      },
      "outputs": [
        {
          "output_type": "stream",
          "name": "stdout",
          "text": [
            "Seems fine!\n"
          ]
        }
      ],
      "source": [
        "# do not change the code in the block below\n",
        "# __________start of block__________\n",
        "tokens = sorted(set(text.lower())) + [\"<sos>\"]\n",
        "num_tokens = len(tokens)\n",
        "\n",
        "assert num_tokens == 84, \"Check the tokenization process\"\n",
        "\n",
        "token_to_idx = {x: idx for idx, x in enumerate(tokens)}\n",
        "idx_to_token = {idx: x for idx, x in enumerate(tokens)}\n",
        "\n",
        "assert len(tokens) == len(token_to_idx), \"Mapping should be unique\"\n",
        "\n",
        "print(\"Seems fine!\")\n",
        "\n",
        "\n",
        "text_encoded = [token_to_idx[x] for x in text]\n",
        "# __________end of block__________"
      ]
    },
    {
      "cell_type": "markdown",
      "metadata": {
        "id": "v69Rmae8vnUW"
      },
      "source": [
        "__Ваша задача__: обучить классическую рекуррентную нейронную сеть (Vanilla RNN) предсказывать следующий символ на полученном корпусе текстов и сгенерировать последовательность длины 100 для фиксированной начальной фразы.\n",
        "\n",
        "Вы можете воспользоваться кодом с занятие №6 или же обратиться к следующим ссылкам:\n",
        "* Замечательная статья за авторством Andrej Karpathy об использовании RNN: [link](http://karpathy.github.io/2015/05/21/rnn-effectiveness/)\n",
        "* Пример char-rnn от Andrej Karpathy: [github repo](https://github.com/karpathy/char-rnn)\n",
        "* Замечательный пример генерации поэзии Шекспира: [github repo](https://github.com/spro/practical-pytorch/blob/master/char-rnn-generation/char-rnn-generation.ipynb)\n",
        "\n",
        "Данное задание является достаточно творческим. Не страшно, если поначалу оно вызывает затруднения. Последняя ссылка в списке выше может быть особенно полезна в данном случае.\n",
        "\n",
        "Далее для вашего удобства реализована функция, которая генерирует случайный батч размера `batch_size` из строк длиной `seq_length`. Вы можете использовать его при обучении модели."
      ]
    },
    {
      "cell_type": "code",
      "execution_count": 6,
      "metadata": {
        "id": "fZA2k-8xvnUX"
      },
      "outputs": [],
      "source": [
        "# do not change the code in the block below\n",
        "# __________start of block__________\n",
        "batch_size = 256\n",
        "seq_length = 100\n",
        "start_column = np.zeros((batch_size, 1), dtype=int) + token_to_idx[\"<sos>\"]\n",
        "\n",
        "\n",
        "def generate_chunk():\n",
        "    global text_encoded, start_column, batch_size, seq_length\n",
        "\n",
        "    start_index = np.random.randint(0, len(text_encoded) - batch_size * seq_length - 1)\n",
        "    data = np.array(\n",
        "        text_encoded[start_index : start_index + batch_size * seq_length]\n",
        "    ).reshape((batch_size, -1))\n",
        "    yield np.hstack((start_column, data))\n",
        "\n",
        "\n",
        "# __________end of block__________"
      ]
    },
    {
      "cell_type": "markdown",
      "metadata": {
        "id": "1s3nvlTBvnUX"
      },
      "source": [
        "Пример батча:"
      ]
    },
    {
      "cell_type": "code",
      "execution_count": 7,
      "metadata": {
        "colab": {
          "base_uri": "https://localhost:8080/"
        },
        "id": "5zl47rRuvnUY",
        "outputId": "315a1f10-3317-4211-8a23-2bdf1eeeb31f"
      },
      "outputs": [
        {
          "output_type": "execute_result",
          "data": {
            "text/plain": [
              "array([[83,  1, 62, ..., 52, 50, 54],\n",
              "       [83,  1, 61, ..., 70, 50,  1],\n",
              "       [83, 58, 50, ..., 59, 54,  1],\n",
              "       ...,\n",
              "       [83, 47, 61, ..., 43, 58, 64],\n",
              "       [83,  5,  1, ..., 47, 59, 63],\n",
              "       [83,  1, 46, ...,  0, 53,  1]])"
            ]
          },
          "metadata": {},
          "execution_count": 7
        }
      ],
      "source": [
        "next(generate_chunk())"
      ]
    },
    {
      "cell_type": "markdown",
      "metadata": {
        "id": "uw5EOuqmvnUZ"
      },
      "source": [
        "Далее вам предстоит написать код для обучения модели и генерации текста."
      ]
    },
    {
      "cell_type": "code",
      "execution_count": 64,
      "metadata": {
        "id": "iFOHFcwEvnUZ"
      },
      "outputs": [],
      "source": [
        "class LSTM(nn.Module):\n",
        "  def __init__(self, n_vocab, hidden_dim, embedding_dim, dropout=0.25):\n",
        "        super(LSTM, self).__init__()\n",
        "        self.hidden_dim, self.embedding_dim = hidden_dim, embedding_dim\n",
        "        self.lstm = nn.LSTM(embedding_dim, hidden_dim, batch_first=True, dropout=dropout, num_layers=3)\n",
        "        self.embeddings = nn.Embedding(n_vocab, embedding_dim)\n",
        "        self.fc = nn.Linear(hidden_dim, n_vocab)\n",
        "  def forward(self, seq_in, hidden):\n",
        "        embedded = self.embeddings(seq_in)\n",
        "        output, hidden = self.lstm(embedded)\n",
        "        ht = output[:, -1]\n",
        "        out = self.fc(output)\n",
        "        return out, hidden\n"
      ]
    },
    {
      "cell_type": "markdown",
      "metadata": {
        "id": "svnbhv6fvnUZ"
      },
      "source": [
        "В качестве иллюстрации ниже доступен график значений функции потерь, построенный в ходе обучения авторской сети (сам код для ее обучения вам и предстоит написать)."
      ]
    },
    {
      "cell_type": "code",
      "source": [
        "for batch in range(len(text_encoded) // (batch_size * seq_length)):\n",
        "            # Генерация данных\n",
        "  data = next(generate_chunk())  # (256, seq_length + 1)\n",
        "\n",
        "            # Уменьшаем данные до batch_size:\n",
        "  data = data[:batch_size, :]  # Берём только первые batch_size строк (128 строк)\n",
        "  # print(data.shape)\n",
        "  inputs = torch.tensor(data[:, :-1], dtype=torch.long).to(device)  # Входы\n",
        "  targets = torch.tensor(data[:, 1:], dtype=torch.long).to(device)  # Цели\n",
        "  print(targets.shape)"
      ],
      "metadata": {
        "id": "qP3NETxGIVSm",
        "outputId": "cea2f029-b0e9-4ae4-ecca-cfd7e649a2e5",
        "colab": {
          "base_uri": "https://localhost:8080/"
        }
      },
      "execution_count": 22,
      "outputs": [
        {
          "output_type": "stream",
          "name": "stdout",
          "text": [
            "torch.Size([256, 100])\n",
            "torch.Size([256, 100])\n",
            "torch.Size([256, 100])\n",
            "torch.Size([256, 100])\n",
            "torch.Size([256, 100])\n"
          ]
        }
      ]
    },
    {
      "cell_type": "code",
      "source": [
        "def train(net, criterion, optimizer, num_epochs=10, device=\"cpu\"):\n",
        "    net.to(device)\n",
        "    history = []\n",
        "\n",
        "    for epoch in range(num_epochs):\n",
        "        net.train()\n",
        "        total_loss = 0\n",
        "\n",
        "        for batch in range(len(text_encoded) // (batch_size * seq_length)):\n",
        "            # Генерация данных\n",
        "            data = next(generate_chunk())  # (batch_size, seq_length + 1)\n",
        "\n",
        "            inputs = torch.tensor(data[:, :-1], dtype=torch.long).to(device)  # Входы\n",
        "            targets = torch.tensor(data[:, 1:], dtype=torch.long).to(device)  # Цели\n",
        "\n",
        "            optimizer.zero_grad()\n",
        "\n",
        "            # Выходы модели: (batch_size, seq_length, vocab_size)\n",
        "            outputs = net(inputs, None)\n",
        "\n",
        "            # Преобразуем размеры для CrossEntropyLoss\n",
        "            outputs = outputs.view(-1, outputs.size(-1))  # (batch_size * seq_length, vocab_size)\n",
        "            targets = targets.view(-1)  # (batch_size * seq_length)\n",
        "\n",
        "            # Проверка на корректность размеров\n",
        "            if outputs.size(0) != targets.size(0):\n",
        "                print(f\"Mismatch in shapes: outputs={outputs.shape}, targets={targets.shape}\")\n",
        "                raise ValueError(\"Shapes of outputs and targets do not match!\")\n",
        "\n",
        "            # Вычисление лосса\n",
        "            loss = criterion(outputs, targets)\n",
        "            loss.backward()\n",
        "            optimizer.step()\n",
        "\n",
        "            total_loss += loss.item()\n",
        "\n",
        "        # Средний лосс за эпоху\n",
        "        average_loss = total_loss / (len(text_encoded) // (batch_size * seq_length))\n",
        "        history.append(average_loss)\n",
        "        print(f\"Epoch {epoch+1}/{num_epochs}, Loss: {average_loss:.4f}\")\n",
        "\n",
        "    return net, history\n",
        "\n",
        "\n",
        "# Определение параметров модели\n",
        "hidden_dim = 128  # размер скрытого слоя\n",
        "embedding_dim = 64  # размер эмбеддингов\n",
        "dropout = 0.25  # вероятность дропаут слоя\n",
        "\n",
        "# Создание и перенос модели на устройство\n",
        "net = LSTM(n_vocab=num_tokens, hidden_dim=hidden_dim, embedding_dim=embedding_dim, dropout=dropout)\n",
        "net = net.to(device)\n",
        "\n",
        "# Определение функции потерь и оптимизатора\n",
        "criterion = torch.nn.CrossEntropyLoss()\n",
        "optimizer = torch.optim.Adam(net.parameters(), lr=0.001)\n",
        "\n",
        "# Запуск обучения\n",
        "net, history = train(\n",
        "    net, criterion, optimizer,\n",
        "    num_epochs=40,\n",
        ")\n"
      ],
      "metadata": {
        "id": "pOY-1iPWOmG7",
        "outputId": "430264bf-69a0-4906-f366-8f449ccab0b9",
        "colab": {
          "base_uri": "https://localhost:8080/"
        }
      },
      "execution_count": 46,
      "outputs": [
        {
          "output_type": "stream",
          "name": "stdout",
          "text": [
            "Epoch 1/40, Loss: 4.3987\n",
            "Epoch 2/40, Loss: 4.1585\n",
            "Epoch 3/40, Loss: 3.5984\n",
            "Epoch 4/40, Loss: 3.4158\n",
            "Epoch 5/40, Loss: 3.3641\n",
            "Epoch 6/40, Loss: 3.3401\n",
            "Epoch 7/40, Loss: 3.3276\n",
            "Epoch 8/40, Loss: 3.3225\n",
            "Epoch 9/40, Loss: 3.3183\n",
            "Epoch 10/40, Loss: 3.3197\n",
            "Epoch 11/40, Loss: 3.3114\n",
            "Epoch 12/40, Loss: 3.3123\n",
            "Epoch 13/40, Loss: 3.3148\n",
            "Epoch 14/40, Loss: 3.3105\n",
            "Epoch 15/40, Loss: 3.3083\n",
            "Epoch 16/40, Loss: 3.3127\n",
            "Epoch 17/40, Loss: 3.3099\n",
            "Epoch 18/40, Loss: 3.3064\n",
            "Epoch 19/40, Loss: 3.3125\n",
            "Epoch 20/40, Loss: 3.3101\n",
            "Epoch 21/40, Loss: 3.3107\n",
            "Epoch 22/40, Loss: 3.3109\n",
            "Epoch 23/40, Loss: 3.3007\n",
            "Epoch 24/40, Loss: 3.3053\n",
            "Epoch 25/40, Loss: 3.3013\n",
            "Epoch 26/40, Loss: 3.3081\n",
            "Epoch 27/40, Loss: 3.3057\n",
            "Epoch 28/40, Loss: 3.3122\n",
            "Epoch 29/40, Loss: 3.3077\n",
            "Epoch 30/40, Loss: 3.3055\n",
            "Epoch 31/40, Loss: 3.3012\n",
            "Epoch 32/40, Loss: 3.3073\n",
            "Epoch 33/40, Loss: 3.3064\n",
            "Epoch 34/40, Loss: 3.3136\n",
            "Epoch 35/40, Loss: 3.3034\n",
            "Epoch 36/40, Loss: 3.2916\n",
            "Epoch 37/40, Loss: 3.2949\n",
            "Epoch 38/40, Loss: 3.2727\n",
            "Epoch 39/40, Loss: 3.2583\n",
            "Epoch 40/40, Loss: 3.2410\n"
          ]
        }
      ]
    },
    {
      "cell_type": "code",
      "source": [
        "\n",
        "def plot_loss(history):\n",
        "    # Создание графика\n",
        "    plt.figure(figsize=(10, 6))\n",
        "    plt.plot(history, label='Training Loss', color='b', linewidth=2)\n",
        "    plt.xlabel('Epochs')\n",
        "    plt.ylabel('Loss')\n",
        "    plt.title('Training Loss Over Epochs')\n",
        "    plt.legend()\n",
        "    plt.grid(True)\n",
        "    plt.show()\n",
        "\n",
        "# Вызываем функцию для построения графика\n",
        "plot_loss(history)"
      ],
      "metadata": {
        "id": "Wy-CiZAEVf-L",
        "outputId": "61eabd44-c44e-4b96-f88a-335040d49185",
        "colab": {
          "base_uri": "https://localhost:8080/",
          "height": 564
        }
      },
      "execution_count": 47,
      "outputs": [
        {
          "output_type": "display_data",
          "data": {
            "text/plain": [
              "<Figure size 1000x600 with 1 Axes>"
            ],
            "image/png": "[encoded data removed]"
          },
          "metadata": {}
        }
      ]
    },
    {
      "cell_type": "markdown",
      "metadata": {
        "id": "NMDqK51GvnUa"
      },
      "source": [
        "Шаблон функции `generate_sample` также доступен ниже. Вы можете как дозаполнить его, так и написать свою собственную функцию с нуля. Не забывайте, что все примеры в обучающей выборке начинались с токена `<sos>`."
      ]
    },
    {
      "cell_type": "code",
      "execution_count": 48,
      "metadata": {
        "id": "QcA0Buv2vnUa"
      },
      "outputs": [],
      "source": [
        "def generate_sample(\n",
        "    char_rnn, seed_phrase=None, max_length=200, temperature=1.0, device=device\n",
        "):\n",
        "    \"\"\"\n",
        "    The function generates text given a phrase of length at least SEQ_LENGTH.\n",
        "    :param seed_phrase: prefix characters. The RNN is asked to continue the phrase\n",
        "    :param max_length: maximum output length, including seed_phrase\n",
        "    :param temperature: coefficient for sampling.  higher temperature produces more chaotic outputs,\n",
        "                        smaller temperature converges to the single most likely output\n",
        "    \"\"\"\n",
        "\n",
        "    if seed_phrase is not None:\n",
        "        x_sequence = [token_to_idx[\"<sos>\"]] + [\n",
        "            token_to_idx[token] for token in seed_phrase\n",
        "        ]\n",
        "    else:\n",
        "        x_sequence = [token_to_idx[\"<sos>\"]]\n",
        "\n",
        "    x_sequence = torch.tensor([x_sequence], dtype=torch.int64).to(device)\n",
        "\n",
        "    # feed the seed phrase, if any\n",
        "\n",
        "    # your code here\n",
        "\n",
        "    return \"\".join([tokens[ix] for ix in x_sequence.cpu().data.numpy()[0]])"
      ]
    },
    {
      "cell_type": "code",
      "source": [
        "net = net.to(device)  # Переносим модель на нужное устройство\n",
        "\n",
        "def generate_sample(\n",
        "    char_rnn, seed_phrase=None, max_length=200, temperature=1.0, device=device\n",
        "):\n",
        "    \"\"\"\n",
        "    The function generates text given a phrase of length at least SEQ_LENGTH.\n",
        "    :param seed_phrase: prefix characters. The RNN is asked to continue the phrase\n",
        "    :param max_length: maximum output length, including seed_phrase\n",
        "    :param temperature: coefficient for sampling.  higher temperature produces more chaotic outputs,\n",
        "                        smaller temperature converges to the single most likely output\n",
        "    \"\"\"\n",
        "\n",
        "    # Преобразование seed_phrase в индексы\n",
        "    if seed_phrase is not None:\n",
        "        x_sequence = [token_to_idx[\"<sos>\"]] + [\n",
        "            token_to_idx[token] for token in seed_phrase\n",
        "        ]\n",
        "    else:\n",
        "        x_sequence = [token_to_idx[\"<sos>\"]]\n",
        "\n",
        "    # Преобразуем x_sequence в тензор и отправляем на устройство\n",
        "    x_sequence = torch.tensor([x_sequence], dtype=torch.int64).to(device)\n",
        "\n",
        "    # Начальная инициализация скрытых состояний модели\n",
        "    hidden = None  # Для LSTM/GRU скрытое состояние должно быть инициализировано (если необходимо)\n",
        "\n",
        "    generated_text = seed_phrase if seed_phrase else \"\"\n",
        "\n",
        "    # Генерация текста\n",
        "    for _ in range(max_length - len(x_sequence[0])):\n",
        "        output, hidden = char_rnn(x_sequence, hidden)  # Получаем выход модели\n",
        "        output = output[:, -1, :]  # Получаем только последний прогноз для текущего шага\n",
        "\n",
        "        # Применяем temperature для более случайного выбора\n",
        "        output = output / temperature  # Уменьшаем/увеличиваем отклонения\n",
        "\n",
        "        # Применяем softmax, чтобы получить вероятности для всех символов\n",
        "        probabilities = torch.softmax(output, dim=-1)\n",
        "\n",
        "        # Выбираем символ с вероятностью\n",
        "        next_token_idx = torch.multinomial(probabilities, 1).item()\n",
        "\n",
        "        # Добавляем символ в последовательность\n",
        "        x_sequence = torch.cat([x_sequence, torch.tensor([[next_token_idx]], dtype=torch.int64).to(device)], dim=1)\n",
        "\n",
        "        # Конвертируем индекс в символ и добавляем его в результат\n",
        "        generated_text += tokens[next_token_idx]\n",
        "\n",
        "        # Если сгенерированный символ — это <eos>, то завершаем генерацию\n",
        "        if tokens[next_token_idx] == \"<eos>\":\n",
        "            break\n",
        "\n",
        "    return generated_text\n"
      ],
      "metadata": {
        "id": "bstjZNQ9WEBK"
      },
      "execution_count": 65,
      "outputs": []
    },
    {
      "cell_type": "markdown",
      "metadata": {
        "id": "U9lnrBhzvnUa"
      },
      "source": [
        "Пример текста сгенерированного обученной моделью доступен ниже. Не страшно, что в тексте много несуществующих слов. Используемая модель очень проста: это простая классическая RNN."
      ]
    },
    {
      "cell_type": "code",
      "execution_count": 66,
      "metadata": {
        "colab": {
          "base_uri": "https://localhost:8080/",
          "height": 327
        },
        "id": "UoBYQ4m8vnUb",
        "outputId": "2b124c0a-9de3-45ba-ed11-60503362eb84"
      },
      "outputs": [
        {
          "output_type": "error",
          "ename": "ValueError",
          "evalue": "not enough values to unpack (expected 2, got 1)",
          "traceback": [
            "\u001b[0;31m---------------------------------------------------------------------------\u001b[0m",
            "\u001b[0;31mValueError\u001b[0m                                Traceback (most recent call last)",
            "\u001b[0;32m<ipython-input-66-1dea92c99368>\u001b[0m in \u001b[0;36m<cell line: 1>\u001b[0;34m()\u001b[0m\n\u001b[0;32m----> 1\u001b[0;31m generated_text = generate_sample(\n\u001b[0m\u001b[1;32m      2\u001b[0m     \u001b[0mnet\u001b[0m\u001b[0;34m,\u001b[0m \u001b[0;34m\"мой дядя самых честных правил\"\u001b[0m\u001b[0;34m,\u001b[0m \u001b[0mmax_length\u001b[0m\u001b[0;34m=\u001b[0m\u001b[0;36m500\u001b[0m\u001b[0;34m,\u001b[0m \u001b[0mtemperature\u001b[0m\u001b[0;34m=\u001b[0m\u001b[0;36m0.8\u001b[0m\u001b[0;34m,\u001b[0m \u001b[0mdevice\u001b[0m\u001b[0;34m=\u001b[0m\u001b[0mdevice\u001b[0m\u001b[0;34m\u001b[0m\u001b[0;34m\u001b[0m\u001b[0m\n\u001b[1;32m      3\u001b[0m )\n\u001b[1;32m      4\u001b[0m \u001b[0mprint\u001b[0m\u001b[0;34m(\u001b[0m\u001b[0mgenerated_text\u001b[0m\u001b[0;34m)\u001b[0m\u001b[0;34m\u001b[0m\u001b[0;34m\u001b[0m\u001b[0m\n",
            "\u001b[0;32m<ipython-input-65-8fe7542b80d9>\u001b[0m in \u001b[0;36mgenerate_sample\u001b[0;34m(char_rnn, seed_phrase, max_length, temperature, device)\u001b[0m\n\u001b[1;32m     30\u001b[0m     \u001b[0;31m# Генерация текста\u001b[0m\u001b[0;34m\u001b[0m\u001b[0;34m\u001b[0m\u001b[0m\n\u001b[1;32m     31\u001b[0m     \u001b[0;32mfor\u001b[0m \u001b[0m_\u001b[0m \u001b[0;32min\u001b[0m \u001b[0mrange\u001b[0m\u001b[0;34m(\u001b[0m\u001b[0mmax_length\u001b[0m \u001b[0;34m-\u001b[0m \u001b[0mlen\u001b[0m\u001b[0;34m(\u001b[0m\u001b[0mx_sequence\u001b[0m\u001b[0;34m[\u001b[0m\u001b[0;36m0\u001b[0m\u001b[0;34m]\u001b[0m\u001b[0;34m)\u001b[0m\u001b[0;34m)\u001b[0m\u001b[0;34m:\u001b[0m\u001b[0;34m\u001b[0m\u001b[0;34m\u001b[0m\u001b[0m\n\u001b[0;32m---> 32\u001b[0;31m         \u001b[0moutput\u001b[0m\u001b[0;34m,\u001b[0m \u001b[0mhidden\u001b[0m \u001b[0;34m=\u001b[0m \u001b[0mchar_rnn\u001b[0m\u001b[0;34m(\u001b[0m\u001b[0mx_sequence\u001b[0m\u001b[0;34m,\u001b[0m \u001b[0mhidden\u001b[0m\u001b[0;34m)\u001b[0m  \u001b[0;31m# Получаем выход модели\u001b[0m\u001b[0;34m\u001b[0m\u001b[0;34m\u001b[0m\u001b[0m\n\u001b[0m\u001b[1;32m     33\u001b[0m         \u001b[0moutput\u001b[0m \u001b[0;34m=\u001b[0m \u001b[0moutput\u001b[0m\u001b[0;34m[\u001b[0m\u001b[0;34m:\u001b[0m\u001b[0;34m,\u001b[0m \u001b[0;34m-\u001b[0m\u001b[0;36m1\u001b[0m\u001b[0;34m,\u001b[0m \u001b[0;34m:\u001b[0m\u001b[0;34m]\u001b[0m  \u001b[0;31m# Получаем только последний прогноз для текущего шага\u001b[0m\u001b[0;34m\u001b[0m\u001b[0;34m\u001b[0m\u001b[0m\n\u001b[1;32m     34\u001b[0m \u001b[0;34m\u001b[0m\u001b[0m\n",
            "\u001b[0;31mValueError\u001b[0m: not enough values to unpack (expected 2, got 1)"
          ]
        }
      ],
      "source": [
        "generated_text = generate_sample(\n",
        "    net, \"мой дядя самых честных правил\", max_length=500, temperature=0.8, device=device\n",
        ")\n",
        "print(generated_text)\n"
      ]
    },
    {
      "cell_type": "markdown",
      "metadata": {
        "id": "BBkJjznDvnUb"
      },
      "source": [
        "### Сдача задания\n",
        "Сгенерируйте десять последовательностей длиной 500, используя строку ' мой дядя самых честных правил'. Температуру для генерации выберите самостоятельно на основании визуального качества генериуремого текста. Не забудьте удалить все технические токены в случае их наличия.\n",
        "\n",
        "Сгенерированную последовательность сохрание в переменную `generated_phrase` и сдайте сгенерированный ниже файл в контест."
      ]
    },
    {
      "cell_type": "code",
      "execution_count": null,
      "metadata": {
        "id": "ZQVv6Wt2vnUb"
      },
      "outputs": [],
      "source": [
        "seed_phrase = \" мой дядя самых честных правил\""
      ]
    },
    {
      "cell_type": "code",
      "execution_count": null,
      "metadata": {
        "id": "sd4ml7fyvnUc"
      },
      "outputs": [],
      "source": [
        "generated_phrases = # your code here\n",
        "\n",
        "# For example:\n",
        "\n",
        "# generated_phrases = [\n",
        "#     generate_sample(\n",
        "#         model,\n",
        "#         ' мой дядя самых честных правил',\n",
        "#         max_length=500,\n",
        "#         temperature=1.\n",
        "#     ).replace('<sos>', '')\n",
        "#     for _ in range(10)\n",
        "# ]"
      ]
    },
    {
      "cell_type": "code",
      "execution_count": null,
      "metadata": {
        "id": "esm69mMsvnUc"
      },
      "outputs": [],
      "source": [
        "output = {key: ','.join([str(x) for x in list(data.item()[key])]) for key in 'train', 'test'}"
      ]
    },
    {
      "cell_type": "code",
      "execution_count": null,
      "metadata": {
        "id": "H7bpU9mmvnUc"
      },
      "outputs": [],
      "source": [
        "# do not change the code in the block below\n",
        "# __________start of block__________\n",
        "\n",
        "if \"generated_phrases\" not in locals():\n",
        "    raise ValueError(\"Please, save generated phrases to `generated_phrases` variable\")\n",
        "\n",
        "for phrase in generated_phrases:\n",
        "\n",
        "    if not isinstance(phrase, str):\n",
        "        raise ValueError(\"The generated phrase should be a string\")\n",
        "\n",
        "    if len(phrase) != 500:\n",
        "        raise ValueError(\"The `generated_phrase` length should be equal to 500\")\n",
        "\n",
        "    assert all(\n",
        "        [x in set(tokens) for x in set(list(phrase))]\n",
        "    ), \"Unknown tokens detected, check your submission!\"\n",
        "\n",
        "\n",
        "submission_dict = {\"token_to_idx\": token_to_idx, \"generated_phrases\": generated_phrases}\n",
        "\n",
        "np.save(\"submission_dict_hw09.npy\", submission_dict, allow_pickle=True)\n",
        "print(\"File saved to `submission_dict_hw09.npy`\")\n",
        "# __________end of block__________"
      ]
    },
    {
      "cell_type": "markdown",
      "metadata": {
        "id": "5DmMNNA2vnUc"
      },
      "source": [
        "На этом задание завершено. Поздравляем!"
      ]
    }
  ],
  "metadata": {
    "accelerator": "GPU",
    "anaconda-cloud": {},
    "colab": {
      "name": "NLP HW Lab01_Poetry_generation.v5.ipynb",
      "provenance": []
    },
    "kernelspec": {
      "display_name": "Py3 Research",
      "language": "python",
      "name": "py3_research"
    },
    "language_info": {
      "codemirror_mode": {
        "name": "ipython",
        "version": 3
      },
      "file_extension": ".py",
      "mimetype": "text/x-python",
      "name": "python",
      "nbconvert_exporter": "python",
      "pygments_lexer": "ipython3",
      "version": "3.7.10"
    }
  },
  "nbformat": 4,
  "nbformat_minor": 0
}